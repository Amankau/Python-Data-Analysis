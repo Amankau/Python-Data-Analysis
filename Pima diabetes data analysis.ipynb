{
 "cells": [
  {
   "cell_type": "markdown",
   "metadata": {},
   "source": [
    "The dataset used here is the PIMA Indian Diabetes dataset from Kaggle and originally come from the National Institute of Diabetes and Digestive and Kidney Diseases. \n",
    "https://www.kaggle.com/uciml/pima-indians-diabetes-database\n",
    "\n",
    "The dataset is originally from the National Institute of Diabetes and Digestive and Kidney Diseases and can be used to predict whether a patient has diabetes based on certain diagnostic factors. Several constraints were placed on the dataset:\n",
    "\n",
    "1. All patients are female\n",
    "2. All patients are at least 21 years old\n",
    "3. All patients are of Pima Indian heritage\n"
   ]
  },
  {
   "cell_type": "markdown",
   "metadata": {},
   "source": [
    "The objective of this analysis is to diagnostically predict if a patient has or likely to have diabetes based on certain diagnostic measurements included in this dataset. Python 3.6.9 is used for the analysis"
   ]
  },
  {
   "cell_type": "code",
   "execution_count": 5,
   "metadata": {},
   "outputs": [],
   "source": [
    "#The first step involves the loading of libraries\n",
    "#Standard\n",
    "import pandas as pd\n",
    "import numpy as np\n",
    "from pandas import Series, DataFrame\n",
    "\n",
    "#Plotting\n",
    "import matplotlib.pyplot as plt\n",
    "import seaborn as sns\n",
    "%matplotlib inline\n",
    "#stats\n",
    "from sklearn.feature_selection import SelectKBest\n",
    "from sklearn.feature_selection import chi2\n"
   ]
  },
  {
   "cell_type": "code",
   "execution_count": 6,
   "metadata": {},
   "outputs": [],
   "source": [
    "#ignore warning messages \n",
    "import warnings\n",
    "warnings.filterwarnings('ignore') "
   ]
  },
  {
   "cell_type": "code",
   "execution_count": 7,
   "metadata": {},
   "outputs": [],
   "source": [
    "#Importing the Dataset\n",
    "dataset=pd.read_csv(r'/home/varun/Desktop/diabetes.csv')"
   ]
  },
  {
   "cell_type": "code",
   "execution_count": 8,
   "metadata": {},
   "outputs": [
    {
     "data": {
      "text/html": [
       "<div>\n",
       "<style scoped>\n",
       "    .dataframe tbody tr th:only-of-type {\n",
       "        vertical-align: middle;\n",
       "    }\n",
       "\n",
       "    .dataframe tbody tr th {\n",
       "        vertical-align: top;\n",
       "    }\n",
       "\n",
       "    .dataframe thead th {\n",
       "        text-align: right;\n",
       "    }\n",
       "</style>\n",
       "<table border=\"1\" class=\"dataframe\">\n",
       "  <thead>\n",
       "    <tr style=\"text-align: right;\">\n",
       "      <th></th>\n",
       "      <th>Pregnancies</th>\n",
       "      <th>Glucose</th>\n",
       "      <th>BloodPressure</th>\n",
       "      <th>SkinThickness</th>\n",
       "      <th>Insulin</th>\n",
       "      <th>BMI</th>\n",
       "      <th>DiabetesPedigreeFunction</th>\n",
       "      <th>Age</th>\n",
       "      <th>Outcome</th>\n",
       "    </tr>\n",
       "  </thead>\n",
       "  <tbody>\n",
       "    <tr>\n",
       "      <th>0</th>\n",
       "      <td>6</td>\n",
       "      <td>148</td>\n",
       "      <td>72</td>\n",
       "      <td>35</td>\n",
       "      <td>0</td>\n",
       "      <td>33.6</td>\n",
       "      <td>0.627</td>\n",
       "      <td>50</td>\n",
       "      <td>1</td>\n",
       "    </tr>\n",
       "    <tr>\n",
       "      <th>1</th>\n",
       "      <td>1</td>\n",
       "      <td>85</td>\n",
       "      <td>66</td>\n",
       "      <td>29</td>\n",
       "      <td>0</td>\n",
       "      <td>26.6</td>\n",
       "      <td>0.351</td>\n",
       "      <td>31</td>\n",
       "      <td>0</td>\n",
       "    </tr>\n",
       "    <tr>\n",
       "      <th>2</th>\n",
       "      <td>8</td>\n",
       "      <td>183</td>\n",
       "      <td>64</td>\n",
       "      <td>0</td>\n",
       "      <td>0</td>\n",
       "      <td>23.3</td>\n",
       "      <td>0.672</td>\n",
       "      <td>32</td>\n",
       "      <td>1</td>\n",
       "    </tr>\n",
       "    <tr>\n",
       "      <th>3</th>\n",
       "      <td>1</td>\n",
       "      <td>89</td>\n",
       "      <td>66</td>\n",
       "      <td>23</td>\n",
       "      <td>94</td>\n",
       "      <td>28.1</td>\n",
       "      <td>0.167</td>\n",
       "      <td>21</td>\n",
       "      <td>0</td>\n",
       "    </tr>\n",
       "    <tr>\n",
       "      <th>4</th>\n",
       "      <td>0</td>\n",
       "      <td>137</td>\n",
       "      <td>40</td>\n",
       "      <td>35</td>\n",
       "      <td>168</td>\n",
       "      <td>43.1</td>\n",
       "      <td>2.288</td>\n",
       "      <td>33</td>\n",
       "      <td>1</td>\n",
       "    </tr>\n",
       "  </tbody>\n",
       "</table>\n",
       "</div>"
      ],
      "text/plain": [
       "   Pregnancies  Glucose  BloodPressure  SkinThickness  Insulin   BMI  \\\n",
       "0            6      148             72             35        0  33.6   \n",
       "1            1       85             66             29        0  26.6   \n",
       "2            8      183             64              0        0  23.3   \n",
       "3            1       89             66             23       94  28.1   \n",
       "4            0      137             40             35      168  43.1   \n",
       "\n",
       "   DiabetesPedigreeFunction  Age  Outcome  \n",
       "0                     0.627   50        1  \n",
       "1                     0.351   31        0  \n",
       "2                     0.672   32        1  \n",
       "3                     0.167   21        0  \n",
       "4                     2.288   33        1  "
      ]
     },
     "metadata": {},
     "output_type": "display_data"
    },
    {
     "data": {
      "text/html": [
       "<div>\n",
       "<style scoped>\n",
       "    .dataframe tbody tr th:only-of-type {\n",
       "        vertical-align: middle;\n",
       "    }\n",
       "\n",
       "    .dataframe tbody tr th {\n",
       "        vertical-align: top;\n",
       "    }\n",
       "\n",
       "    .dataframe thead th {\n",
       "        text-align: right;\n",
       "    }\n",
       "</style>\n",
       "<table border=\"1\" class=\"dataframe\">\n",
       "  <thead>\n",
       "    <tr style=\"text-align: right;\">\n",
       "      <th></th>\n",
       "      <th>Pregnancies</th>\n",
       "      <th>Glucose</th>\n",
       "      <th>BloodPressure</th>\n",
       "      <th>SkinThickness</th>\n",
       "      <th>Insulin</th>\n",
       "      <th>BMI</th>\n",
       "      <th>DiabetesPedigreeFunction</th>\n",
       "      <th>Age</th>\n",
       "      <th>Outcome</th>\n",
       "    </tr>\n",
       "  </thead>\n",
       "  <tbody>\n",
       "    <tr>\n",
       "      <th>count</th>\n",
       "      <td>768.000000</td>\n",
       "      <td>768.000000</td>\n",
       "      <td>768.000000</td>\n",
       "      <td>768.000000</td>\n",
       "      <td>768.000000</td>\n",
       "      <td>768.000000</td>\n",
       "      <td>768.000000</td>\n",
       "      <td>768.000000</td>\n",
       "      <td>768.000000</td>\n",
       "    </tr>\n",
       "    <tr>\n",
       "      <th>mean</th>\n",
       "      <td>3.845052</td>\n",
       "      <td>120.894531</td>\n",
       "      <td>69.105469</td>\n",
       "      <td>20.536458</td>\n",
       "      <td>79.799479</td>\n",
       "      <td>31.992578</td>\n",
       "      <td>0.471876</td>\n",
       "      <td>33.240885</td>\n",
       "      <td>0.348958</td>\n",
       "    </tr>\n",
       "    <tr>\n",
       "      <th>std</th>\n",
       "      <td>3.369578</td>\n",
       "      <td>31.972618</td>\n",
       "      <td>19.355807</td>\n",
       "      <td>15.952218</td>\n",
       "      <td>115.244002</td>\n",
       "      <td>7.884160</td>\n",
       "      <td>0.331329</td>\n",
       "      <td>11.760232</td>\n",
       "      <td>0.476951</td>\n",
       "    </tr>\n",
       "    <tr>\n",
       "      <th>min</th>\n",
       "      <td>0.000000</td>\n",
       "      <td>0.000000</td>\n",
       "      <td>0.000000</td>\n",
       "      <td>0.000000</td>\n",
       "      <td>0.000000</td>\n",
       "      <td>0.000000</td>\n",
       "      <td>0.078000</td>\n",
       "      <td>21.000000</td>\n",
       "      <td>0.000000</td>\n",
       "    </tr>\n",
       "    <tr>\n",
       "      <th>25%</th>\n",
       "      <td>1.000000</td>\n",
       "      <td>99.000000</td>\n",
       "      <td>62.000000</td>\n",
       "      <td>0.000000</td>\n",
       "      <td>0.000000</td>\n",
       "      <td>27.300000</td>\n",
       "      <td>0.243750</td>\n",
       "      <td>24.000000</td>\n",
       "      <td>0.000000</td>\n",
       "    </tr>\n",
       "    <tr>\n",
       "      <th>50%</th>\n",
       "      <td>3.000000</td>\n",
       "      <td>117.000000</td>\n",
       "      <td>72.000000</td>\n",
       "      <td>23.000000</td>\n",
       "      <td>30.500000</td>\n",
       "      <td>32.000000</td>\n",
       "      <td>0.372500</td>\n",
       "      <td>29.000000</td>\n",
       "      <td>0.000000</td>\n",
       "    </tr>\n",
       "    <tr>\n",
       "      <th>75%</th>\n",
       "      <td>6.000000</td>\n",
       "      <td>140.250000</td>\n",
       "      <td>80.000000</td>\n",
       "      <td>32.000000</td>\n",
       "      <td>127.250000</td>\n",
       "      <td>36.600000</td>\n",
       "      <td>0.626250</td>\n",
       "      <td>41.000000</td>\n",
       "      <td>1.000000</td>\n",
       "    </tr>\n",
       "    <tr>\n",
       "      <th>max</th>\n",
       "      <td>17.000000</td>\n",
       "      <td>199.000000</td>\n",
       "      <td>122.000000</td>\n",
       "      <td>99.000000</td>\n",
       "      <td>846.000000</td>\n",
       "      <td>67.100000</td>\n",
       "      <td>2.420000</td>\n",
       "      <td>81.000000</td>\n",
       "      <td>1.000000</td>\n",
       "    </tr>\n",
       "  </tbody>\n",
       "</table>\n",
       "</div>"
      ],
      "text/plain": [
       "       Pregnancies     Glucose  BloodPressure  SkinThickness     Insulin  \\\n",
       "count   768.000000  768.000000     768.000000     768.000000  768.000000   \n",
       "mean      3.845052  120.894531      69.105469      20.536458   79.799479   \n",
       "std       3.369578   31.972618      19.355807      15.952218  115.244002   \n",
       "min       0.000000    0.000000       0.000000       0.000000    0.000000   \n",
       "25%       1.000000   99.000000      62.000000       0.000000    0.000000   \n",
       "50%       3.000000  117.000000      72.000000      23.000000   30.500000   \n",
       "75%       6.000000  140.250000      80.000000      32.000000  127.250000   \n",
       "max      17.000000  199.000000     122.000000      99.000000  846.000000   \n",
       "\n",
       "              BMI  DiabetesPedigreeFunction         Age     Outcome  \n",
       "count  768.000000                768.000000  768.000000  768.000000  \n",
       "mean    31.992578                  0.471876   33.240885    0.348958  \n",
       "std      7.884160                  0.331329   11.760232    0.476951  \n",
       "min      0.000000                  0.078000   21.000000    0.000000  \n",
       "25%     27.300000                  0.243750   24.000000    0.000000  \n",
       "50%     32.000000                  0.372500   29.000000    0.000000  \n",
       "75%     36.600000                  0.626250   41.000000    1.000000  \n",
       "max     67.100000                  2.420000   81.000000    1.000000  "
      ]
     },
     "metadata": {},
     "output_type": "display_data"
    }
   ],
   "source": [
    "display(dataset.head(),dataset.describe())"
   ]
  },
  {
   "cell_type": "markdown",
   "metadata": {},
   "source": [
    "All the attrributes in the dataset are Numerical except the Outcome. "
   ]
  },
  {
   "cell_type": "code",
   "execution_count": 9,
   "metadata": {},
   "outputs": [
    {
     "name": "stdout",
     "output_type": "stream",
     "text": [
      "<class 'pandas.core.frame.DataFrame'>\n",
      "RangeIndex: 768 entries, 0 to 767\n",
      "Data columns (total 9 columns):\n",
      " #   Column                    Non-Null Count  Dtype  \n",
      "---  ------                    --------------  -----  \n",
      " 0   Pregnancies               768 non-null    int64  \n",
      " 1   Glucose                   768 non-null    int64  \n",
      " 2   BloodPressure             768 non-null    int64  \n",
      " 3   SkinThickness             768 non-null    int64  \n",
      " 4   Insulin                   768 non-null    int64  \n",
      " 5   BMI                       768 non-null    float64\n",
      " 6   DiabetesPedigreeFunction  768 non-null    float64\n",
      " 7   Age                       768 non-null    int64  \n",
      " 8   Outcome                   768 non-null    int64  \n",
      "dtypes: float64(2), int64(7)\n",
      "memory usage: 54.1 KB\n"
     ]
    }
   ],
   "source": [
    "#NO null values, therefore it is a clean dataset\n",
    "dataset.info()"
   ]
  },
  {
   "cell_type": "markdown",
   "metadata": {},
   "source": [
    "Since there are no null values in the dataset it is considered to be clean data. Although the data description shows zero values for Pregnancies, Glucose, Blood Pressure, Skin Thickness, Insulin and BMI. A zero for pregnancies indicates no pregnancies but for the rest of the columns it is impossible and hence incorrect therefore data imputation is needed."
   ]
  },
  {
   "cell_type": "code",
   "execution_count": 11,
   "metadata": {},
   "outputs": [
    {
     "data": {
      "text/plain": [
       "Pregnancies                   0\n",
       "Glucose                       5\n",
       "BloodPressure                35\n",
       "SkinThickness               227\n",
       "Insulin                     374\n",
       "BMI                          11\n",
       "DiabetesPedigreeFunction      0\n",
       "Age                           0\n",
       "Outcome                       0\n",
       "dtype: int64"
      ]
     },
     "execution_count": 11,
     "metadata": {},
     "output_type": "execute_result"
    }
   ],
   "source": [
    "dataset.isnull().sum()"
   ]
  },
  {
   "cell_type": "code",
   "execution_count": 13,
   "metadata": {},
   "outputs": [
    {
     "data": {
      "text/plain": [
       "Outcome\n",
       "0    500\n",
       "1    268\n",
       "dtype: int64"
      ]
     },
     "execution_count": 13,
     "metadata": {},
     "output_type": "execute_result"
    }
   ],
   "source": [
    "dataset.groupby(\"Outcome\").size() "
   ]
  },
  {
   "cell_type": "code",
   "execution_count": 9,
   "metadata": {},
   "outputs": [
    {
     "data": {
      "text/plain": [
       "<seaborn.axisgrid.FacetGrid at 0x7f82724e7390>"
      ]
     },
     "execution_count": 9,
     "metadata": {},
     "output_type": "execute_result"
    },
    {
     "data": {
      "image/png": "[encoded data removed]",
      "text/plain": [
       "<Figure size 360x360 with 1 Axes>"
      ]
     },
     "metadata": {
      "needs_background": "light"
     },
     "output_type": "display_data"
    }
   ],
   "source": [
    "sns.catplot(x=\"Outcome\",data= dataset, kind=\"count\")"
   ]
  },
  {
   "cell_type": "markdown",
   "metadata": {},
   "source": [
    "The barplot shows the number of Diabetes and non diabetets patients as 268 and 500 respectively"
   ]
  },
  {
   "cell_type": "code",
   "execution_count": 10,
   "metadata": {},
   "outputs": [
    {
     "data": {
      "text/plain": [
       "<AxesSubplot:>"
      ]
     },
     "execution_count": 10,
     "metadata": {},
     "output_type": "execute_result"
    },
    {
     "data": {
      "image/png": "[encoded data removed]",
      "text/plain": [
       "<Figure size 1000x1000 with 1 Axes>"
      ]
     },
     "metadata": {},
     "output_type": "display_data"
    }
   ],
   "source": [
    "fig=plt.figure(figsize=(10,10), dpi= 100, facecolor='w', edgecolor='k')\n",
    "\n",
    "sns.boxplot(data=dataset, orient=\"h\", palette=\"Set2\")"
   ]
  },
  {
   "cell_type": "markdown",
   "metadata": {},
   "source": [
    "From the boxplot description,Insulin is the parameter with most number of Outliers."
   ]
  },
  {
   "cell_type": "code",
   "execution_count": 12,
   "metadata": {},
   "outputs": [
    {
     "data": {
      "image/png": "[encoded data removed]",
      "text/plain": [
       "<Figure size 720x720 with 9 Axes>"
      ]
     },
     "metadata": {
      "needs_background": "light"
     },
     "output_type": "display_data"
    }
   ],
   "source": [
    "# Histogram plot of data\n",
    "\n",
    "col = list(dataset.columns)\n",
    "dataset[col].hist(stacked=True, bins=20, figsize=(10,10), layout=(3,3))\n",
    "plt.tight_layout()"
   ]
  },
  {
   "cell_type": "markdown",
   "metadata": {},
   "source": [
    "The above histogram charts give information about the independent variables and dependent variables. The independent variable of the histogram charts include the **number of pregnancies, BMI, insulin level, age, blood pressure, diabetes pedigree function, skin thickness and glucose**, whereas the dependent variable histogram chart includes the **outcome**.\n",
    "At first glance, most of them appear to be positively skewed, with Glucose and BloodPressure with the closest to the normal distribution. We will be doing hypothesis testing to check for the normality. Outcome is a bimodal distribution which is to be expected. An individual Analysis of each of the parameters is done."
   ]
  },
  {
   "cell_type": "code",
   "execution_count": 12,
   "metadata": {},
   "outputs": [
    {
     "data": {
      "text/plain": [
       "count    768.000000\n",
       "mean       3.845052\n",
       "std        3.369578\n",
       "min        0.000000\n",
       "25%        1.000000\n",
       "50%        3.000000\n",
       "75%        6.000000\n",
       "max       17.000000\n",
       "Name: Pregnancies, dtype: float64"
      ]
     },
     "execution_count": 12,
     "metadata": {},
     "output_type": "execute_result"
    }
   ],
   "source": [
    "#Pregnancies\n",
    "dataset[\"Pregnancies\"].describe()"
   ]
  },
  {
   "cell_type": "code",
   "execution_count": 13,
   "metadata": {},
   "outputs": [
    {
     "data": {
      "image/png": "[encoded data removed]",
      "text/plain": [
       "<Figure size 432x288 with 1 Axes>"
      ]
     },
     "metadata": {
      "needs_background": "light"
     },
     "output_type": "display_data"
    }
   ],
   "source": [
    "ax = sns.boxplot(x= \"Outcome\", y= \"Pregnancies\", data=dataset)"
   ]
  },
  {
   "cell_type": "markdown",
   "metadata": {},
   "source": [
    "The number of Pregnancies in the women range from 0 to 17. However,box plot shows that diabetic women have more pregnancies than non diabetic."
   ]
  },
  {
   "cell_type": "code",
   "execution_count": 14,
   "metadata": {},
   "outputs": [
    {
     "data": {
      "text/plain": [
       "count    768.000000\n",
       "mean     120.894531\n",
       "std       31.972618\n",
       "min        0.000000\n",
       "25%       99.000000\n",
       "50%      117.000000\n",
       "75%      140.250000\n",
       "max      199.000000\n",
       "Name: Glucose, dtype: float64"
      ]
     },
     "execution_count": 14,
     "metadata": {},
     "output_type": "execute_result"
    }
   ],
   "source": [
    "dataset[\"Glucose\"].describe()"
   ]
  },
  {
   "cell_type": "markdown",
   "metadata": {},
   "source": [
    "The Glucose data seems to be nearly normalised(Histogram above). To confirm if the Gluocse is normally distributed, hypothesis testing is done and the normaltest function in scipy.stats is used to perform it. The minimun value of Glucose is however zero which is biologically not possible and therefore data imputation is needed. "
   ]
  },
  {
   "cell_type": "code",
   "execution_count": 15,
   "metadata": {},
   "outputs": [],
   "source": [
    "alpha = 0.05 ##Assuming a 5% significance level for all the tests\n",
    "\n",
    "def hypothesis_result(p_value):\n",
    "    p_value = round(p_value,4)\n",
    "    if p_value < alpha:\n",
    "        print (\"As p-value is \",p_value,\", which is lower than the significance level, we reject the null hypothesis.\")\n",
    "    else:\n",
    "        print (\"As p-value is \",p_value,\", which is higher than the significance level, we do not reject the null hypothesis.\")"
   ]
  },
  {
   "cell_type": "code",
   "execution_count": 16,
   "metadata": {},
   "outputs": [
    {
     "name": "stdout",
     "output_type": "stream",
     "text": [
      "As p-value is  0.002 , which is lower than the significance level, we reject the null hypothesis.\n"
     ]
    }
   ],
   "source": [
    "from scipy import stats\n",
    "s1, p1 = stats.normaltest(dataset['Glucose'])\n",
    "\n",
    "hypothesis_result(p1)"
   ]
  },
  {
   "cell_type": "markdown",
   "metadata": {},
   "source": [
    "Therefore Glucose does not have any normal distribution"
   ]
  },
  {
   "cell_type": "code",
   "execution_count": 17,
   "metadata": {},
   "outputs": [
    {
     "data": {
      "image/png": "[encoded data removed]",
      "text/plain": [
       "<Figure size 432x288 with 1 Axes>"
      ]
     },
     "metadata": {
      "needs_background": "light"
     },
     "output_type": "display_data"
    }
   ],
   "source": [
    "#Glucose visualization using violin plot\n",
    "ax = sns.violinplot(x=\"Outcome\", y=\"Glucose\", data=dataset, palette=\"muted\", split=True, scale=\"count\")"
   ]
  },
  {
   "cell_type": "code",
   "execution_count": 37,
   "metadata": {},
   "outputs": [
    {
     "name": "stdout",
     "output_type": "stream",
     "text": [
      "True\n"
     ]
    }
   ],
   "source": [
    "a= dataset[\"Glucose\"]\n",
    "print( isinstance(a, pd.Series))"
   ]
  },
  {
   "cell_type": "markdown",
   "metadata": {},
   "source": [
    " The Glucose data for non diabetics follow nearly normal distribution. Vertical shift between the two outcomes shows that the diabetics have a higher level of Glucose. The zero values are present for this variable as well and imputed using median."
   ]
  },
  {
   "cell_type": "code",
   "execution_count": 18,
   "metadata": {},
   "outputs": [],
   "source": [
    "#Data imputation using median\n",
    "df1 = dataset.loc[dataset['Outcome'] == 1]\n",
    "df2 = dataset.loc[dataset['Outcome'] == 0]\n",
    "df1 = df1.replace({'Glucose':0}, np.median(df1['Glucose']))\n",
    "df2 = df2.replace({'Glucose':0}, np.median(df2['Glucose']))\n",
    "dataframe = [df1, df2]\n",
    "dataset = pd.concat(dataframe)"
   ]
  },
  {
   "cell_type": "code",
   "execution_count": 38,
   "metadata": {},
   "outputs": [
    {
     "data": {
      "text/plain": [
       "count    768.000000\n",
       "mean      69.105469\n",
       "std       19.355807\n",
       "min        0.000000\n",
       "25%       62.000000\n",
       "50%       72.000000\n",
       "75%       80.000000\n",
       "max      122.000000\n",
       "Name: BloodPressure, dtype: float64"
      ]
     },
     "execution_count": 38,
     "metadata": {},
     "output_type": "execute_result"
    }
   ],
   "source": [
    "dataset[\"BloodPressure\"].describe()"
   ]
  },
  {
   "cell_type": "code",
   "execution_count": 30,
   "metadata": {},
   "outputs": [
    {
     "data": {
      "text/plain": [
       "72.0"
      ]
     },
     "execution_count": 30,
     "metadata": {},
     "output_type": "execute_result"
    }
   ],
   "source": [
    "dataset[\"BloodPressure\"].median()"
   ]
  },
  {
   "cell_type": "markdown",
   "metadata": {},
   "source": [
    "The distribution looks approximately normal(mean= 69 and median= 72). To check for the normality Shapiro-Wilk test is used (another method for checking normalization) with null hypothesis(Ho) that the Blood Pressure is normally distributed. Also a minimum value of 0 is not possible for Blood Pressure, imputation required."
   ]
  },
  {
   "cell_type": "code",
   "execution_count": 31,
   "metadata": {},
   "outputs": [
    {
     "name": "stdout",
     "output_type": "stream",
     "text": [
      "Statistics=0.819, p=0.000\n"
     ]
    }
   ],
   "source": [
    "from scipy.stats import shapiro\n",
    "stat, p = shapiro(dataset['BloodPressure'])\n",
    "print('Statistics=%.3f, p=%.3f' % (stat, p))"
   ]
  },
  {
   "cell_type": "markdown",
   "metadata": {},
   "source": [
    "Since the p-value is less than the 5% Level of Significance (LOS) the null hypothesis (Ho) is rejected. Therefore, the variable does not follow a normal distribution."
   ]
  },
  {
   "cell_type": "code",
   "execution_count": 32,
   "metadata": {},
   "outputs": [
    {
     "data": {
      "image/png": "[encoded data removed]",
      "text/plain": [
       "<Figure size 432x288 with 1 Axes>"
      ]
     },
     "metadata": {
      "needs_background": "light"
     },
     "output_type": "display_data"
    }
   ],
   "source": [
    "#Classifying the Blood Pressure based on Outcome\n",
    "ax = sns.boxplot(x= \"Outcome\", y= \"BloodPressure\", data=dataset)"
   ]
  },
  {
   "cell_type": "markdown",
   "metadata": {},
   "source": [
    "Interpretation: Diabetics seem to have a higher blood pressure than the non-diabetics. The outliers around 0 indicates the number of zeros in the data which need to be imputed. The imputation is done with the respective medians for both the outcomes. "
   ]
  },
  {
   "cell_type": "code",
   "execution_count": 33,
   "metadata": {},
   "outputs": [],
   "source": [
    "#Replacing the zero-values for Blood Pressure\n",
    "df1 = dataset.loc[dataset['Outcome'] == 1]\n",
    "df2 = dataset.loc[dataset['Outcome'] == 0]\n",
    "df1 = df1.replace({'BloodPressure':0}, np.median(df1['BloodPressure']))\n",
    "df2 = df2.replace({'BloodPressure':0}, np.median(df2['BloodPressure']))\n",
    "dataframe = [df1, df2]\n",
    "dataset = pd.concat(dataframe)"
   ]
  },
  {
   "cell_type": "code",
   "execution_count": 35,
   "metadata": {},
   "outputs": [
    {
     "data": {
      "text/plain": [
       "count    768.000000\n",
       "mean      20.536458\n",
       "std       15.952218\n",
       "min        0.000000\n",
       "25%        0.000000\n",
       "50%       23.000000\n",
       "75%       32.000000\n",
       "max       99.000000\n",
       "Name: SkinThickness, dtype: float64"
      ]
     },
     "execution_count": 35,
     "metadata": {},
     "output_type": "execute_result"
    }
   ],
   "source": [
    "dataset[\"SkinThickness\"].describe()"
   ]
  },
  {
   "cell_type": "code",
   "execution_count": 36,
   "metadata": {},
   "outputs": [
    {
     "data": {
      "image/png": "[encoded data removed]",
      "text/plain": [
       "<Figure size 432x288 with 1 Axes>"
      ]
     },
     "metadata": {
      "needs_background": "light"
     },
     "output_type": "display_data"
    }
   ],
   "source": [
    "ax = sns.violinplot(x=\"Outcome\", y=\"SkinThickness\", data=dataset, palette=\"muted\", split=True, scale=\"count\")"
   ]
  },
  {
   "cell_type": "markdown",
   "metadata": {},
   "source": [
    "The Skin thickness for diabetics is much more. The data again contains zeros and are imputed by median."
   ]
  },
  {
   "cell_type": "code",
   "execution_count": 37,
   "metadata": {},
   "outputs": [],
   "source": [
    "df1 = dataset.loc[dataset['Outcome'] == 1]\n",
    "df2 = dataset.loc[dataset['Outcome'] == 0]\n",
    "df1 = df1.replace({'SkinThickness':0}, np.median(df1['SkinThickness']))\n",
    "df2 = df2.replace({'SkinThickness':0}, np.median(df2['SkinThickness']))\n",
    "dataframe = [df1, df2]\n",
    "dataset = pd.concat(dataframe)"
   ]
  },
  {
   "cell_type": "code",
   "execution_count": 38,
   "metadata": {},
   "outputs": [
    {
     "data": {
      "text/plain": [
       "count    768.000000\n",
       "mean      79.799479\n",
       "std      115.244002\n",
       "min        0.000000\n",
       "25%        0.000000\n",
       "50%       30.500000\n",
       "75%      127.250000\n",
       "max      846.000000\n",
       "Name: Insulin, dtype: float64"
      ]
     },
     "execution_count": 38,
     "metadata": {},
     "output_type": "execute_result"
    }
   ],
   "source": [
    "dataset[\"Insulin\"].describe()"
   ]
  },
  {
   "cell_type": "code",
   "execution_count": 39,
   "metadata": {},
   "outputs": [],
   "source": [
    "df1 = dataset.loc[dataset['Outcome'] == 1]\n",
    "df2 = dataset.loc[dataset['Outcome'] == 0]\n",
    "df1 = df1.replace({'Insulin':0}, np.median(df1['BMI']))\n",
    "df2 = df2.replace({'Insulin':0}, np.median(df2['BMI']))\n",
    "dataframe = [df1, df2]\n",
    "dataset = pd.concat(dataframe)"
   ]
  },
  {
   "cell_type": "markdown",
   "metadata": {},
   "source": [
    "The Insulin data is positively skewed and the zero values are replaced by median. The box plot even after imputation shows a large number of outliers. The Insulin values are higher for diabetics which is an expected result."
   ]
  },
  {
   "cell_type": "code",
   "execution_count": 40,
   "metadata": {},
   "outputs": [
    {
     "data": {
      "image/png": "[encoded data removed]",
      "text/plain": [
       "<Figure size 432x288 with 1 Axes>"
      ]
     },
     "metadata": {
      "needs_background": "light"
     },
     "output_type": "display_data"
    }
   ],
   "source": [
    "ax = sns.boxplot(x=\"Outcome\", y=\"Insulin\", data=dataset,palette=\"muted\")"
   ]
  },
  {
   "cell_type": "code",
   "execution_count": 41,
   "metadata": {},
   "outputs": [
    {
     "data": {
      "text/plain": [
       "count    768.000000\n",
       "mean      31.992578\n",
       "std        7.884160\n",
       "min        0.000000\n",
       "25%       27.300000\n",
       "50%       32.000000\n",
       "75%       36.600000\n",
       "max       67.100000\n",
       "Name: BMI, dtype: float64"
      ]
     },
     "execution_count": 41,
     "metadata": {},
     "output_type": "execute_result"
    }
   ],
   "source": [
    "dataset[\"BMI\"].describe()"
   ]
  },
  {
   "cell_type": "code",
   "execution_count": 42,
   "metadata": {},
   "outputs": [
    {
     "data": {
      "image/png": "[encoded data removed]",
      "text/plain": [
       "<Figure size 432x288 with 1 Axes>"
      ]
     },
     "metadata": {
      "needs_background": "light"
     },
     "output_type": "display_data"
    }
   ],
   "source": [
    "ax = sns.violinplot(x=\"Outcome\", y=\"BMI\", data=dataset, palette=\"muted\", split=True, scale=\"count\")"
   ]
  },
  {
   "cell_type": "markdown",
   "metadata": {},
   "source": [
    "The violinplot demonstrates:<br/>\n",
    "1.The presence of zero values for both the outcomes though the number seems comparatively higher for the non diabetic individuals i.e; outcome=0. <br/>\n",
    "2.The BMI data for outcome=1 follows normal distribution while outcome =0 doesn't.<br/>\n",
    "3.The BMI is higher for the diabetic patients than non diabetic"
   ]
  },
  {
   "cell_type": "code",
   "execution_count": 43,
   "metadata": {},
   "outputs": [],
   "source": [
    "df1 = dataset.loc[dataset['Outcome'] == 1]\n",
    "df2 = dataset.loc[dataset['Outcome'] == 0]\n",
    "df1 = df1.replace({'BMI':0}, np.median(df1['BMI']))\n",
    "df2 = df2.replace({'BMI':0}, np.median(df2['BMI']))\n",
    "dataframe = [df1, df2]\n",
    "dataset = pd.concat(dataframe)"
   ]
  },
  {
   "cell_type": "code",
   "execution_count": 44,
   "metadata": {},
   "outputs": [
    {
     "data": {
      "text/plain": [
       "count    768.000000\n",
       "mean       0.471876\n",
       "std        0.331329\n",
       "min        0.078000\n",
       "25%        0.243750\n",
       "50%        0.372500\n",
       "75%        0.626250\n",
       "max        2.420000\n",
       "Name: DiabetesPedigreeFunction, dtype: float64"
      ]
     },
     "execution_count": 44,
     "metadata": {},
     "output_type": "execute_result"
    }
   ],
   "source": [
    "dataset[\"DiabetesPedigreeFunction\"].describe()"
   ]
  },
  {
   "cell_type": "code",
   "execution_count": 45,
   "metadata": {},
   "outputs": [
    {
     "data": {
      "image/png": "[encoded data removed]",
      "text/plain": [
       "<Figure size 432x288 with 1 Axes>"
      ]
     },
     "metadata": {
      "needs_background": "light"
     },
     "output_type": "display_data"
    }
   ],
   "source": [
    "ax = sns.violinplot(x=\"Outcome\", y=\"DiabetesPedigreeFunction\", data=dataset, palette=\"muted\", split=True, scale=\"count\")"
   ]
  },
  {
   "cell_type": "markdown",
   "metadata": {},
   "source": [
    "The Histogram shows that the Diabetes Pedigree Function is a positively skewed variable with no zeros and diabetics have a higher PedigreeFunction than non diabetics."
   ]
  },
  {
   "cell_type": "code",
   "execution_count": 46,
   "metadata": {},
   "outputs": [
    {
     "data": {
      "text/plain": [
       "count    768.000000\n",
       "mean      33.240885\n",
       "std       11.760232\n",
       "min       21.000000\n",
       "25%       24.000000\n",
       "50%       29.000000\n",
       "75%       41.000000\n",
       "max       81.000000\n",
       "Name: Age, dtype: float64"
      ]
     },
     "execution_count": 46,
     "metadata": {},
     "output_type": "execute_result"
    }
   ],
   "source": [
    "dataset[\"Age\"].describe()"
   ]
  },
  {
   "cell_type": "code",
   "execution_count": 40,
   "metadata": {},
   "outputs": [
    {
     "data": {
      "image/png": "[encoded data removed]",
      "text/plain": [
       "<Figure size 432x288 with 1 Axes>"
      ]
     },
     "metadata": {
      "needs_background": "light"
     },
     "output_type": "display_data"
    }
   ],
   "source": [
    "ax = sns.boxplot(x= \"Outcome\", y= \"Age\", data=dataset)"
   ]
  },
  {
   "cell_type": "markdown",
   "metadata": {},
   "source": [
    "Age is again a positively skewed parameter with no zeros. Most of the diabetics are in the age between 30 and 45 while the highest age for diabetics goes upto 70 years"
   ]
  },
  {
   "cell_type": "code",
   "execution_count": 48,
   "metadata": {},
   "outputs": [],
   "source": [
    "correlate_data= dataset.corr()"
   ]
  },
  {
   "cell_type": "code",
   "execution_count": 49,
   "metadata": {},
   "outputs": [
    {
     "data": {
      "text/html": [
       "<div>\n",
       "<style scoped>\n",
       "    .dataframe tbody tr th:only-of-type {\n",
       "        vertical-align: middle;\n",
       "    }\n",
       "\n",
       "    .dataframe tbody tr th {\n",
       "        vertical-align: top;\n",
       "    }\n",
       "\n",
       "    .dataframe thead th {\n",
       "        text-align: right;\n",
       "    }\n",
       "</style>\n",
       "<table border=\"1\" class=\"dataframe\">\n",
       "  <thead>\n",
       "    <tr style=\"text-align: right;\">\n",
       "      <th></th>\n",
       "      <th>Pregnancies</th>\n",
       "      <th>Glucose</th>\n",
       "      <th>BloodPressure</th>\n",
       "      <th>SkinThickness</th>\n",
       "      <th>Insulin</th>\n",
       "      <th>BMI</th>\n",
       "      <th>DiabetesPedigreeFunction</th>\n",
       "      <th>Age</th>\n",
       "      <th>Outcome</th>\n",
       "    </tr>\n",
       "  </thead>\n",
       "  <tbody>\n",
       "    <tr>\n",
       "      <th>Pregnancies</th>\n",
       "      <td>1.000000</td>\n",
       "      <td>0.130155</td>\n",
       "      <td>0.209155</td>\n",
       "      <td>0.044593</td>\n",
       "      <td>-0.053257</td>\n",
       "      <td>0.023887</td>\n",
       "      <td>-0.033523</td>\n",
       "      <td>0.544341</td>\n",
       "      <td>0.221898</td>\n",
       "    </tr>\n",
       "    <tr>\n",
       "      <th>Glucose</th>\n",
       "      <td>0.130155</td>\n",
       "      <td>1.000000</td>\n",
       "      <td>0.224684</td>\n",
       "      <td>0.215366</td>\n",
       "      <td>0.362238</td>\n",
       "      <td>0.236225</td>\n",
       "      <td>0.138353</td>\n",
       "      <td>0.268910</td>\n",
       "      <td>0.495990</td>\n",
       "    </tr>\n",
       "    <tr>\n",
       "      <th>BloodPressure</th>\n",
       "      <td>0.209155</td>\n",
       "      <td>0.224684</td>\n",
       "      <td>1.000000</td>\n",
       "      <td>0.159653</td>\n",
       "      <td>-0.026357</td>\n",
       "      <td>0.285945</td>\n",
       "      <td>-0.001336</td>\n",
       "      <td>0.325306</td>\n",
       "      <td>0.173316</td>\n",
       "    </tr>\n",
       "    <tr>\n",
       "      <th>SkinThickness</th>\n",
       "      <td>0.044593</td>\n",
       "      <td>0.215366</td>\n",
       "      <td>0.159653</td>\n",
       "      <td>1.000000</td>\n",
       "      <td>0.231989</td>\n",
       "      <td>0.573227</td>\n",
       "      <td>0.144541</td>\n",
       "      <td>0.063847</td>\n",
       "      <td>0.282844</td>\n",
       "    </tr>\n",
       "    <tr>\n",
       "      <th>Insulin</th>\n",
       "      <td>-0.053257</td>\n",
       "      <td>0.362238</td>\n",
       "      <td>-0.026357</td>\n",
       "      <td>0.231989</td>\n",
       "      <td>1.000000</td>\n",
       "      <td>0.193667</td>\n",
       "      <td>0.179090</td>\n",
       "      <td>-0.012926</td>\n",
       "      <td>0.158617</td>\n",
       "    </tr>\n",
       "    <tr>\n",
       "      <th>BMI</th>\n",
       "      <td>0.023887</td>\n",
       "      <td>0.236225</td>\n",
       "      <td>0.285945</td>\n",
       "      <td>0.573227</td>\n",
       "      <td>0.193667</td>\n",
       "      <td>1.000000</td>\n",
       "      <td>0.152779</td>\n",
       "      <td>0.027873</td>\n",
       "      <td>0.315606</td>\n",
       "    </tr>\n",
       "    <tr>\n",
       "      <th>DiabetesPedigreeFunction</th>\n",
       "      <td>-0.033523</td>\n",
       "      <td>0.138353</td>\n",
       "      <td>-0.001336</td>\n",
       "      <td>0.144541</td>\n",
       "      <td>0.179090</td>\n",
       "      <td>0.152779</td>\n",
       "      <td>1.000000</td>\n",
       "      <td>0.033561</td>\n",
       "      <td>0.173844</td>\n",
       "    </tr>\n",
       "    <tr>\n",
       "      <th>Age</th>\n",
       "      <td>0.544341</td>\n",
       "      <td>0.268910</td>\n",
       "      <td>0.325306</td>\n",
       "      <td>0.063847</td>\n",
       "      <td>-0.012926</td>\n",
       "      <td>0.027873</td>\n",
       "      <td>0.033561</td>\n",
       "      <td>1.000000</td>\n",
       "      <td>0.238356</td>\n",
       "    </tr>\n",
       "    <tr>\n",
       "      <th>Outcome</th>\n",
       "      <td>0.221898</td>\n",
       "      <td>0.495990</td>\n",
       "      <td>0.173316</td>\n",
       "      <td>0.282844</td>\n",
       "      <td>0.158617</td>\n",
       "      <td>0.315606</td>\n",
       "      <td>0.173844</td>\n",
       "      <td>0.238356</td>\n",
       "      <td>1.000000</td>\n",
       "    </tr>\n",
       "  </tbody>\n",
       "</table>\n",
       "</div>"
      ],
      "text/plain": [
       "                          Pregnancies   Glucose  BloodPressure  SkinThickness  \\\n",
       "Pregnancies                  1.000000  0.130155       0.209155       0.044593   \n",
       "Glucose                      0.130155  1.000000       0.224684       0.215366   \n",
       "BloodPressure                0.209155  0.224684       1.000000       0.159653   \n",
       "SkinThickness                0.044593  0.215366       0.159653       1.000000   \n",
       "Insulin                     -0.053257  0.362238      -0.026357       0.231989   \n",
       "BMI                          0.023887  0.236225       0.285945       0.573227   \n",
       "DiabetesPedigreeFunction    -0.033523  0.138353      -0.001336       0.144541   \n",
       "Age                          0.544341  0.268910       0.325306       0.063847   \n",
       "Outcome                      0.221898  0.495990       0.173316       0.282844   \n",
       "\n",
       "                           Insulin       BMI  DiabetesPedigreeFunction  \\\n",
       "Pregnancies              -0.053257  0.023887                 -0.033523   \n",
       "Glucose                   0.362238  0.236225                  0.138353   \n",
       "BloodPressure            -0.026357  0.285945                 -0.001336   \n",
       "SkinThickness             0.231989  0.573227                  0.144541   \n",
       "Insulin                   1.000000  0.193667                  0.179090   \n",
       "BMI                       0.193667  1.000000                  0.152779   \n",
       "DiabetesPedigreeFunction  0.179090  0.152779                  1.000000   \n",
       "Age                      -0.012926  0.027873                  0.033561   \n",
       "Outcome                   0.158617  0.315606                  0.173844   \n",
       "\n",
       "                               Age   Outcome  \n",
       "Pregnancies               0.544341  0.221898  \n",
       "Glucose                   0.268910  0.495990  \n",
       "BloodPressure             0.325306  0.173316  \n",
       "SkinThickness             0.063847  0.282844  \n",
       "Insulin                  -0.012926  0.158617  \n",
       "BMI                       0.027873  0.315606  \n",
       "DiabetesPedigreeFunction  0.033561  0.173844  \n",
       "Age                       1.000000  0.238356  \n",
       "Outcome                   0.238356  1.000000  "
      ]
     },
     "execution_count": 49,
     "metadata": {},
     "output_type": "execute_result"
    }
   ],
   "source": [
    "correlate_data"
   ]
  },
  {
   "cell_type": "code",
   "execution_count": 50,
   "metadata": {},
   "outputs": [
    {
     "name": "stdout",
     "output_type": "stream",
     "text": [
      "(array([0, 0, 1, 2, 3, 3, 4, 5, 5, 6, 7, 7, 8]), array([0, 7, 1, 2, 3, 5, 4, 3, 5, 6, 0, 7, 8]))\n"
     ]
    }
   ],
   "source": [
    "print(np.where(correlate_data > 0.5))"
   ]
  },
  {
   "cell_type": "markdown",
   "metadata": {},
   "source": [
    "The correlation values shows the Glucose is the most important feature to affect the Outcome.The parameter with the highest positive correlation to each other is (BMI,SkinThickness) and (Pregnancies, Age) but it still doesn't constitute a very strong collinearity (usually >0.75). Further feature selection is done using the chi-squared statistical test"
   ]
  },
  {
   "cell_type": "code",
   "execution_count": 42,
   "metadata": {},
   "outputs": [
    {
     "name": "stdout",
     "output_type": "stream",
     "text": [
      "                   Features        Score\n",
      "4                   Insulin  2175.565273\n",
      "1                   Glucose  1439.168619\n",
      "7                       Age   181.303689\n",
      "5                       BMI   127.669343\n",
      "0               Pregnancies   111.519691\n",
      "3             SkinThickness    53.108040\n",
      "2             BloodPressure    17.605373\n",
      "6  DiabetesPedigreeFunction     5.392682\n"
     ]
    }
   ],
   "source": [
    "X = dataset.iloc[:,0:8] \n",
    "y = dataset.iloc[:,-1]   \n",
    "bestfeatures = SelectKBest(score_func=chi2, k=8)\n",
    "fit = bestfeatures.fit(X,y)\n",
    "dfscores = pd.DataFrame(fit.scores_)\n",
    "dfcolumns = pd.DataFrame(X.columns) \n",
    "featureScores = pd.concat([dfcolumns,dfscores],axis=1)\n",
    "featureScores.columns = ['Features','Score']  \n",
    "print(featureScores.nlargest(8,'Score'))"
   ]
  },
  {
   "cell_type": "markdown",
   "metadata": {},
   "source": [
    "Thus BloodPressure and Diabetes Pedigree function are the two columns having least contribution in deciding the outcome. A correlation matrix is built to further confirm the aforementioned analysis."
   ]
  },
  {
   "cell_type": "code",
   "execution_count": 52,
   "metadata": {},
   "outputs": [
    {
     "data": {
      "image/png": "[encoded data removed]",
      "text/plain": [
       "<Figure size 720x720 with 2 Axes>"
      ]
     },
     "metadata": {
      "needs_background": "light"
     },
     "output_type": "display_data"
    }
   ],
   "source": [
    "corrmat = dataset.corr()\n",
    "top_corr_features = corrmat.index\n",
    "plt.figure(figsize=(10,10))\n",
    "g=sns.heatmap(dataset[top_corr_features].corr(),annot=True,cmap=\"RdYlGn\")"
   ]
  },
  {
   "cell_type": "markdown",
   "metadata": {},
   "source": [
    "The results from the correlation matrix and chi squared test doesn't seem to be in consensus as Insulin doesn't look like strongly correalted to the outcome. Out of all the features, the best predictor of the Outcome is ‘Glucose’ with a correlation of 0.49 which is near to 0.50. This indicates a moderate uphill (positive) relationship. The second-best predictor of the target variable ‘Outcome’ is ‘BMI’ with a correlation of 0.32 indicating a weak uphill (positive) linear relationship. There is also a moderate correlation of 0.54 between BMI and Skin Thickness. Similarly, there is a correlation between ‘Age’ and ‘Pregnancies’ of 0.54.To further confirm the result  Pearson correlation test using stats.pearsonr is done.\n",
    "\n"
   ]
  },
  {
   "cell_type": "code",
   "execution_count": 53,
   "metadata": {},
   "outputs": [
    {
     "name": "stdout",
     "output_type": "stream",
     "text": [
      "Pearsons correlation between Insulin and Target variable is: 0.159\n"
     ]
    }
   ],
   "source": [
    "corr, _ = stats.pearsonr(dataset[\"Insulin\"], dataset[\"Outcome\"])\n",
    "print(\"Pearsons correlation between Insulin and Target variable is: %.3f\" % corr)\n"
   ]
  },
  {
   "cell_type": "markdown",
   "metadata": {},
   "source": [
    "The Pearson correlation test further iterates a weak correlation between outcome and Insulin. Further we check for the correlation coefficient between Glucose and outcome."
   ]
  },
  {
   "cell_type": "code",
   "execution_count": 54,
   "metadata": {},
   "outputs": [
    {
     "name": "stdout",
     "output_type": "stream",
     "text": [
      "Pearsons correlation between Glucose and Target variable is: 0.496\n"
     ]
    }
   ],
   "source": [
    "corr, _ = stats.pearsonr(dataset[\"Glucose\"], dataset[\"Outcome\"])\n",
    "print(\"Pearsons correlation between Glucose and Target variable is: %.3f\" % corr)\n"
   ]
  },
  {
   "cell_type": "code",
   "execution_count": 55,
   "metadata": {},
   "outputs": [],
   "source": [
    "df= dataset.loc[dataset[\"Outcome\"] == 1]"
   ]
  },
  {
   "cell_type": "code",
   "execution_count": 56,
   "metadata": {},
   "outputs": [
    {
     "data": {
      "text/html": [
       "<div>\n",
       "<style scoped>\n",
       "    .dataframe tbody tr th:only-of-type {\n",
       "        vertical-align: middle;\n",
       "    }\n",
       "\n",
       "    .dataframe tbody tr th {\n",
       "        vertical-align: top;\n",
       "    }\n",
       "\n",
       "    .dataframe thead th {\n",
       "        text-align: right;\n",
       "    }\n",
       "</style>\n",
       "<table border=\"1\" class=\"dataframe\">\n",
       "  <thead>\n",
       "    <tr style=\"text-align: right;\">\n",
       "      <th></th>\n",
       "      <th>Pregnancies</th>\n",
       "      <th>Glucose</th>\n",
       "      <th>BloodPressure</th>\n",
       "      <th>SkinThickness</th>\n",
       "      <th>Insulin</th>\n",
       "      <th>BMI</th>\n",
       "      <th>DiabetesPedigreeFunction</th>\n",
       "      <th>Age</th>\n",
       "      <th>Outcome</th>\n",
       "    </tr>\n",
       "  </thead>\n",
       "  <tbody>\n",
       "    <tr>\n",
       "      <th>0</th>\n",
       "      <td>6</td>\n",
       "      <td>148</td>\n",
       "      <td>72</td>\n",
       "      <td>35</td>\n",
       "      <td>34.25</td>\n",
       "      <td>33.6</td>\n",
       "      <td>0.627</td>\n",
       "      <td>50</td>\n",
       "      <td>1</td>\n",
       "    </tr>\n",
       "    <tr>\n",
       "      <th>2</th>\n",
       "      <td>8</td>\n",
       "      <td>183</td>\n",
       "      <td>64</td>\n",
       "      <td>27</td>\n",
       "      <td>34.25</td>\n",
       "      <td>23.3</td>\n",
       "      <td>0.672</td>\n",
       "      <td>32</td>\n",
       "      <td>1</td>\n",
       "    </tr>\n",
       "    <tr>\n",
       "      <th>4</th>\n",
       "      <td>0</td>\n",
       "      <td>137</td>\n",
       "      <td>40</td>\n",
       "      <td>35</td>\n",
       "      <td>168.00</td>\n",
       "      <td>43.1</td>\n",
       "      <td>2.288</td>\n",
       "      <td>33</td>\n",
       "      <td>1</td>\n",
       "    </tr>\n",
       "    <tr>\n",
       "      <th>6</th>\n",
       "      <td>3</td>\n",
       "      <td>78</td>\n",
       "      <td>50</td>\n",
       "      <td>32</td>\n",
       "      <td>88.00</td>\n",
       "      <td>31.0</td>\n",
       "      <td>0.248</td>\n",
       "      <td>26</td>\n",
       "      <td>1</td>\n",
       "    </tr>\n",
       "    <tr>\n",
       "      <th>8</th>\n",
       "      <td>2</td>\n",
       "      <td>197</td>\n",
       "      <td>70</td>\n",
       "      <td>45</td>\n",
       "      <td>543.00</td>\n",
       "      <td>30.5</td>\n",
       "      <td>0.158</td>\n",
       "      <td>53</td>\n",
       "      <td>1</td>\n",
       "    </tr>\n",
       "    <tr>\n",
       "      <th>...</th>\n",
       "      <td>...</td>\n",
       "      <td>...</td>\n",
       "      <td>...</td>\n",
       "      <td>...</td>\n",
       "      <td>...</td>\n",
       "      <td>...</td>\n",
       "      <td>...</td>\n",
       "      <td>...</td>\n",
       "      <td>...</td>\n",
       "    </tr>\n",
       "    <tr>\n",
       "      <th>755</th>\n",
       "      <td>1</td>\n",
       "      <td>128</td>\n",
       "      <td>88</td>\n",
       "      <td>39</td>\n",
       "      <td>110.00</td>\n",
       "      <td>36.5</td>\n",
       "      <td>1.057</td>\n",
       "      <td>37</td>\n",
       "      <td>1</td>\n",
       "    </tr>\n",
       "    <tr>\n",
       "      <th>757</th>\n",
       "      <td>0</td>\n",
       "      <td>123</td>\n",
       "      <td>72</td>\n",
       "      <td>27</td>\n",
       "      <td>34.25</td>\n",
       "      <td>36.3</td>\n",
       "      <td>0.258</td>\n",
       "      <td>52</td>\n",
       "      <td>1</td>\n",
       "    </tr>\n",
       "    <tr>\n",
       "      <th>759</th>\n",
       "      <td>6</td>\n",
       "      <td>190</td>\n",
       "      <td>92</td>\n",
       "      <td>27</td>\n",
       "      <td>34.25</td>\n",
       "      <td>35.5</td>\n",
       "      <td>0.278</td>\n",
       "      <td>66</td>\n",
       "      <td>1</td>\n",
       "    </tr>\n",
       "    <tr>\n",
       "      <th>761</th>\n",
       "      <td>9</td>\n",
       "      <td>170</td>\n",
       "      <td>74</td>\n",
       "      <td>31</td>\n",
       "      <td>34.25</td>\n",
       "      <td>44.0</td>\n",
       "      <td>0.403</td>\n",
       "      <td>43</td>\n",
       "      <td>1</td>\n",
       "    </tr>\n",
       "    <tr>\n",
       "      <th>766</th>\n",
       "      <td>1</td>\n",
       "      <td>126</td>\n",
       "      <td>60</td>\n",
       "      <td>27</td>\n",
       "      <td>34.25</td>\n",
       "      <td>30.1</td>\n",
       "      <td>0.349</td>\n",
       "      <td>47</td>\n",
       "      <td>1</td>\n",
       "    </tr>\n",
       "  </tbody>\n",
       "</table>\n",
       "<p>268 rows × 9 columns</p>\n",
       "</div>"
      ],
      "text/plain": [
       "     Pregnancies  Glucose  BloodPressure  SkinThickness  Insulin   BMI  \\\n",
       "0              6      148             72             35    34.25  33.6   \n",
       "2              8      183             64             27    34.25  23.3   \n",
       "4              0      137             40             35   168.00  43.1   \n",
       "6              3       78             50             32    88.00  31.0   \n",
       "8              2      197             70             45   543.00  30.5   \n",
       "..           ...      ...            ...            ...      ...   ...   \n",
       "755            1      128             88             39   110.00  36.5   \n",
       "757            0      123             72             27    34.25  36.3   \n",
       "759            6      190             92             27    34.25  35.5   \n",
       "761            9      170             74             31    34.25  44.0   \n",
       "766            1      126             60             27    34.25  30.1   \n",
       "\n",
       "     DiabetesPedigreeFunction  Age  Outcome  \n",
       "0                       0.627   50        1  \n",
       "2                       0.672   32        1  \n",
       "4                       2.288   33        1  \n",
       "6                       0.248   26        1  \n",
       "8                       0.158   53        1  \n",
       "..                        ...  ...      ...  \n",
       "755                     1.057   37        1  \n",
       "757                     0.258   52        1  \n",
       "759                     0.278   66        1  \n",
       "761                     0.403   43        1  \n",
       "766                     0.349   47        1  \n",
       "\n",
       "[268 rows x 9 columns]"
      ]
     },
     "execution_count": 56,
     "metadata": {},
     "output_type": "execute_result"
    }
   ],
   "source": [
    "df"
   ]
  },
  {
   "cell_type": "code",
   "execution_count": 72,
   "metadata": {},
   "outputs": [],
   "source": [
    "Glucose= df[\"Glucose\"]"
   ]
  },
  {
   "cell_type": "code",
   "execution_count": 74,
   "metadata": {},
   "outputs": [
    {
     "data": {
      "text/plain": [
       "array([  0,  20,  40,  60,  80, 100, 120, 140, 160, 180, 200])"
      ]
     },
     "execution_count": 74,
     "metadata": {},
     "output_type": "execute_result"
    }
   ],
   "source": [
    "Glucose_split= np.arange(0,220,20)\n",
    "Glucose_split"
   ]
  },
  {
   "cell_type": "code",
   "execution_count": 75,
   "metadata": {},
   "outputs": [],
   "source": [
    "Glucose_bin= pd.cut(Glucose,Glucose_split)"
   ]
  },
  {
   "cell_type": "code",
   "execution_count": 77,
   "metadata": {},
   "outputs": [
    {
     "data": {
      "image/png": "[encoded data removed]",
      "text/plain": [
       "<Figure size 432x288 with 1 Axes>"
      ]
     },
     "metadata": {
      "needs_background": "light"
     },
     "output_type": "display_data"
    }
   ],
   "source": [
    "ax = pd.value_counts(Glucose_bin,sort= False).plot.bar(figsize=(6,4))\n",
    "plt.title(\"Glucose variation in diabetic patients\")\n",
    "plt.xlabel('Glucose level')\n",
    "plt.ylabel('Number of diabetic patients')\n",
    "plt.show()"
   ]
  },
  {
   "cell_type": "markdown",
   "metadata": {},
   "source": [
    "This bar chart shows the comparison of outcome 1 (diabetic) over the plasma glucose concentration range from 0 to 200. the highest number of patients with the outcome 1 is displayed between 120 to 140. The average Glucose concentration of Pima women who have diabetes is 141.25. The maximum number of individuals diagnosed with diabetes are those having Glucose level in the range 100 to 180. "
   ]
  },
  {
   "cell_type": "code",
   "execution_count": 83,
   "metadata": {},
   "outputs": [
    {
     "data": {
      "text/plain": [
       "count    268.000000\n",
       "mean      35.398134\n",
       "std        6.590915\n",
       "min       22.900000\n",
       "25%       30.900000\n",
       "50%       34.275000\n",
       "75%       38.775000\n",
       "max       67.100000\n",
       "Name: BMI, dtype: float64"
      ]
     },
     "execution_count": 83,
     "metadata": {},
     "output_type": "execute_result"
    }
   ],
   "source": [
    "BMI= df[\"BMI\"]\n",
    "BMI.describe()"
   ]
  },
  {
   "cell_type": "code",
   "execution_count": 88,
   "metadata": {},
   "outputs": [
    {
     "data": {
      "text/plain": [
       "array([20, 25, 30, 35, 40, 45, 50, 55, 60, 65, 70, 75])"
      ]
     },
     "execution_count": 88,
     "metadata": {},
     "output_type": "execute_result"
    }
   ],
   "source": [
    "BMI_split= np.arange(20,80,5)\n",
    "BMI_split"
   ]
  },
  {
   "cell_type": "code",
   "execution_count": 106,
   "metadata": {},
   "outputs": [],
   "source": [
    "BMI_bin= pd.cut(BMI,BMI_split)\n"
   ]
  },
  {
   "cell_type": "code",
   "execution_count": 90,
   "metadata": {},
   "outputs": [
    {
     "data": {
      "image/png": "[encoded data removed]",
      "text/plain": [
       "<Figure size 432x288 with 1 Axes>"
      ]
     },
     "metadata": {
      "needs_background": "light"
     },
     "output_type": "display_data"
    }
   ],
   "source": [
    "ax = pd.value_counts(BMI_bin,sort= False).plot.bar(figsize=(6,4))\n",
    "plt.title(\"BMI variation in diabetic patients\")\n",
    "plt.xlabel('BMI')\n",
    "plt.ylabel('Number of diabetic patients')\n",
    "plt.show()"
   ]
  },
  {
   "cell_type": "markdown",
   "metadata": {},
   "source": [
    "This bar chart illustrates the BMI range varying from 20 to 70 with an interval of 5. The BMI range with the highest count of diabetes is 30 to 35 and the average BMI for Pima women who have diabetes is 35.39. "
   ]
  },
  {
   "cell_type": "markdown",
   "metadata": {},
   "source": [
    "**Conclusion**\n",
    "\n",
    "Since some variables like BloodPressure, Glucose, SkinThickness, BMI, and Insulin can never be zero, we have imputed the missing values - which are replaced by the outcome based median or mean values. Also, there is a strong positive relation between glucose and diabetes and is the most important factor in determining the onset of diabetes followed by BMI and Age.\n"
   ]
  }
 ],
 "metadata": {
  "kernelspec": {
   "display_name": "Python 3",
   "language": "python",
   "name": "python3"
  },
  "language_info": {
   "codemirror_mode": {
    "name": "ipython",
    "version": 3
   },
   "file_extension": ".py",
   "mimetype": "text/x-python",
   "name": "python",
   "nbconvert_exporter": "python",
   "pygments_lexer": "ipython3",
   "version": "3.6.9"
  }
 },
 "nbformat": 4,
 "nbformat_minor": 2
}
